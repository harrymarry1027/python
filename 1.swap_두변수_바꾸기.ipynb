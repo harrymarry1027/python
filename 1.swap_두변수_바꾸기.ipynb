{
  "nbformat": 4,
  "nbformat_minor": 0,
  "metadata": {
    "colab": {
      "name": "swap 두변수 바꾸기.ipynb",
      "provenance": [],
      "collapsed_sections": [],
      "authorship_tag": "ABX9TyOB+2EpwMC8rUtkVa2Dt/Mv",
      "include_colab_link": true
    },
    "kernelspec": {
      "name": "python3",
      "display_name": "Python 3"
    },
    "language_info": {
      "name": "python"
    }
  },
  "cells": [
    {
      "cell_type": "markdown",
      "metadata": {
        "id": "view-in-github",
        "colab_type": "text"
      },
      "source": [
        "<a href=\"https://colab.research.google.com/github/harrymarry1027/python/blob/main/swap_%EB%91%90%EB%B3%80%EC%88%98_%EB%B0%94%EA%BE%B8%EA%B8%B0.ipynb\" target=\"_parent\"><img src=\"https://colab.research.google.com/assets/colab-badge.svg\" alt=\"Open In Colab\"/></a>"
      ]
    },
    {
      "cell_type": "markdown",
      "source": [
        "# 두 변수 값 바꾸기(swap)\n",
        "\n",
        "- temp 변수를 이용하여 두 변수 값 바꾸기\n",
        "- python "
      ],
      "metadata": {
        "id": "DfAPeq2BDGlu"
      }
    },
    {
      "cell_type": "markdown",
      "source": [
        "- temp 변수를 이용하여 두 변수 값 바꾸기"
      ],
      "metadata": {
        "id": "3Fhrl5W1DiOw"
      }
    },
    {
      "cell_type": "code",
      "execution_count": 3,
      "metadata": {
        "colab": {
          "base_uri": "https://localhost:8080/"
        },
        "id": "u9Vxx-5ECM4y",
        "outputId": "59c62ace-67c6-41c9-cbc1-f4b56ba76b6b"
      },
      "outputs": [
        {
          "output_type": "stream",
          "name": "stdout",
          "text": [
            "before swap: 10\n",
            "before swap: 20\n",
            "before swap: 20\n",
            "before swap: 10\n"
          ]
        }
      ],
      "source": [
        "a= 10\n",
        "b= 20\n",
        "\n",
        "print('before swap:',a)\n",
        "print('before swap:',b)\n",
        "\n",
        "# swab\n",
        "temp = a\n",
        "a = b\n",
        "b= temp\n",
        "\n",
        "print('before swap:',a)\n",
        "print('before swap:',b)"
      ]
    },
    {
      "cell_type": "markdown",
      "source": [
        "- Python 문법을 이용하여 두 변수 값 바꾸기 "
      ],
      "metadata": {
        "id": "bI5y04guC-KB"
      }
    },
    {
      "cell_type": "code",
      "source": [
        "a = 10\n",
        "b = 20\n",
        "\n",
        "print('before swap:', a)\n",
        "print('before swap:', b)\n",
        "\n",
        "# swap\n",
        "a, b = b, a\n",
        "\n",
        "print('after swap:', a)\n",
        "print('after swap:', b)"
      ],
      "metadata": {
        "colab": {
          "base_uri": "https://localhost:8080/"
        },
        "id": "bVP-CnXCEQj4",
        "outputId": "9b1e3582-aed8-405f-940d-130317b6862d"
      },
      "execution_count": 4,
      "outputs": [
        {
          "output_type": "stream",
          "name": "stdout",
          "text": [
            "before swap: 10\n",
            "before swap: 20\n",
            "after swap: 20\n",
            "after swap: 10\n"
          ]
        }
      ]
    },
    {
      "cell_type": "code",
      "source": [
        ""
      ],
      "metadata": {
        "id": "_S0dMAfrEiuX"
      },
      "execution_count": null,
      "outputs": []
    }
  ]
}
