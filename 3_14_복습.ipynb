{
  "nbformat": 4,
  "nbformat_minor": 0,
  "metadata": {
    "colab": {
      "name": "3.14 복습",
      "provenance": [],
      "collapsed_sections": [],
      "authorship_tag": "ABX9TyNdgLY6K75oTiNCQyrDmULK",
      "include_colab_link": true
    },
    "kernelspec": {
      "name": "python3",
      "display_name": "Python 3"
    },
    "language_info": {
      "name": "python"
    }
  },
  "cells": [
    {
      "cell_type": "markdown",
      "metadata": {
        "id": "view-in-github",
        "colab_type": "text"
      },
      "source": [
        "<a href=\"https://colab.research.google.com/github/harrymarry1027/python/blob/main/3_14_%EB%B3%B5%EC%8A%B5.ipynb\" target=\"_parent\"><img src=\"https://colab.research.google.com/assets/colab-badge.svg\" alt=\"Open In Colab\"/></a>"
      ]
    },
    {
      "cell_type": "markdown",
      "source": [
        "# IDE(Intergrated Development Environment, 통합개발환경)\n",
        "공통된 개발자 툴을 하나의 그래픽 사용자 인터페이스(Graphical User Interface, GUI)로 결합하는 애플리케이션을 구축하기 위한 소프트웨어\n",
        "\n",
        "* GUI? 사용자가 편리하게 사용할 수 있도록 입출력 등의 기능을 알기 쉬운 아이콘 따위의 그래픽으로 나타낸 것\n",
        "\n",
        "* 인터페이스란 ? 사용자 인터페이스 또는 유저 인터페이스(영어: user interface, UI)는 사람(사용자)과 사물 또는 시스템, 특히 기계, 컴퓨터 프로그램 등 사이에서 의사소통을 할 수 있도록 일시적 또는 영구적인 접근을 목적으로 만들어진 물리적, 가상적 매개체\n",
        "\n",
        " - 주피터는 개발 환경\n",
        " - 인공지능 하는분이 주로 사용\n",
        " - 서로 주고 받고 공유도 됨. GPU를 구글거 나눠씀\n",
        " - 셀은 코드셀과 텍스트셀, 코드셀 실행하는 방법 ctrl+enter, shift+enter\n",
        "\n",
        "-인터프리터 언어\n",
        "소스코드를 한 줄 한 줄 읽어가며 명령을 바로 처리하는 프로그램(언어). 번역과 실행이 동시에 이루어짐. (python,Java...)\n",
        "\n",
        " - 주피터는 인터프리터의 동작환경을 최대한 끌어올린 개발환경\n",
        " - 한줄씩 실행 가능함\n",
        " - 출력을 하려면 print()라는 표준 출력함수를 사용하지만 주피는 print없이도 가능\n",
        " "
      ],
      "metadata": {
        "id": "5FwP4T30zp64"
      }
    },
    {
      "cell_type": "code",
      "source": [
        "1+1\n"
      ],
      "metadata": {
        "colab": {
          "base_uri": "https://localhost:8080/"
        },
        "id": "CI-_JGjpzpTh",
        "outputId": "00625f21-5802-44fa-8cc2-41f979771e29"
      },
      "execution_count": null,
      "outputs": [
        {
          "output_type": "execute_result",
          "data": {
            "text/plain": [
              "2"
            ]
          },
          "metadata": {},
          "execution_count": 1
        }
      ]
    },
    {
      "cell_type": "code",
      "execution_count": null,
      "metadata": {
        "colab": {
          "base_uri": "https://localhost:8080/"
        },
        "id": "P3btJ4Xizmoc",
        "outputId": "d57a5cf8-5764-4ce5-c1f8-b46e737c7dcd"
      },
      "outputs": [
        {
          "output_type": "execute_result",
          "data": {
            "text/plain": [
              "6"
            ]
          },
          "metadata": {},
          "execution_count": 2
        }
      ],
      "source": [
        "2*3"
      ]
    },
    {
      "cell_type": "code",
      "source": [
        "2*6\n",
        "2*7\n",
        "2*8"
      ],
      "metadata": {
        "colab": {
          "base_uri": "https://localhost:8080/"
        },
        "id": "hQw05Ae82dT1",
        "outputId": "8c883b96-8628-4c2e-c351-428d25cf9f12"
      },
      "execution_count": null,
      "outputs": [
        {
          "output_type": "execute_result",
          "data": {
            "text/plain": [
              "16"
            ]
          },
          "metadata": {},
          "execution_count": 3
        }
      ]
    },
    {
      "cell_type": "code",
      "source": [
        "# print를 사용하지 않으면 위에 결과가 덮어 씌어질수 있다.\n",
        "print(2*6)\n",
        "print(2*7)\n",
        "print(2*8)"
      ],
      "metadata": {
        "colab": {
          "base_uri": "https://localhost:8080/"
        },
        "id": "4NaaVp1M2gbj",
        "outputId": "859090f4-81e8-4d0b-b849-7d69f46126fd"
      },
      "execution_count": null,
      "outputs": [
        {
          "output_type": "stream",
          "name": "stdout",
          "text": [
            "12\n",
            "14\n",
            "16\n"
          ]
        }
      ]
    },
    {
      "cell_type": "markdown",
      "source": [
        "# 파이썬 인터프리터의 특징\n",
        "- 인터프리터가 어떻게 동작하는지?\n",
        "규모가 큰 소스의 경우, 컴파일 언어는 프로그램 실행 전 먼저 기계어로 컴파일하는 데 시간이 오래 걸릴 수 있는데 인터프리터 언어는 코드를 한 번에 한 줄씩 읽어 들이면서 바로 실행이 가능함.\n",
        "- 명령어로 실행하고, 어떻게 값이 돌아오는지를 한줄한줄 확인하기 위해 colab 사용\n",
        "- 파이썬 명령어는 모두 인터프리터에 의해서 실행되는 것을 가정하고 동작\n",
        "- py파일에 전부 기록하고 한번에 실행\n",
        "- 셀 블록 단위로 나눠서 실행\n",
        "- 주피터는 일반적인 개발 환경과 인터프리터의 중간적인 환경을 제공하는 IDE이다.\n"
      ],
      "metadata": {
        "id": "a61hZAnN25Lr"
      }
    },
    {
      "cell_type": "code",
      "source": [
        ""
      ],
      "metadata": {
        "id": "6KgKf3yd24T8"
      },
      "execution_count": null,
      "outputs": []
    },
    {
      "cell_type": "markdown",
      "source": [
        "#자료의 타입\n",
        "-자료\n",
        "\n",
        "  -프로그래밍(코딩)을 하는 대상을 자료라고 합니다.\n",
        "  -파일(엑셀, 그림, 텍스트, ... ), 문자, 숫자,...\n",
        "  -자료의 형태는 기본적으로 둘 중에 하나 입니다(문자, 숫자)\n",
        "  -문자도 결국 바이너리코드가 되면 숫자이니 정확히 말하자면 숫자 하나..\n",
        "  -숫자를 RGB로 해석하면, 색정보, 문자 인코딩을 하면 문자, ...\n",
        "  결국, 컴퓨터에서 보여지는 모든 것들은 전부 숫자로 표현 가능\n",
        "\n",
        "-파이썬의 타입은 여러가지가 있는데\n",
        "  -기본 타입은 숫자( 정수, 실수 )\n",
        "  -파이썬의 기본 타입은 자료를 구성하는 가장 기본적인 최소 단위"
      ],
      "metadata": {
        "id": "79Vhe2Pk42Yu"
      }
    },
    {
      "cell_type": "markdown",
      "source": [
        "# 숫자\n",
        "\n",
        "- 정수, 실수, BOOLEAN 3가지 타입의 자료\n",
        "- INT, FLOAT,DOUBLE,LONG\n",
        "- 다른언어(컴파일 언어)용량을 최대한 아끼기 위해서 정수, 실수로 나누고 정수/실수 안에서도 더 크거나 긴 숫자는 다른 자료형으로 관리를 합니다.\n",
        "- 파이썬은 3개만 있음\n",
        "- 정수와 실수\n",
        "- BOOL (TRUL/FALSE)1 0\n",
        "  \n",
        "  - 불리언(boolean)은 논리학에서 참(true)과 거짓(false)을 나타내는 데 사용\n",
        "  - 논리 연산(logical operation)이란 주어진 논리식을 판단하여 참(true)과 거짓(false)을 결정하는 연산"
      ],
      "metadata": {
        "id": "UJufQ50P5uWa"
      }
    },
    {
      "cell_type": "markdown",
      "source": [
        "# 정수(iNTEGER)\n",
        "- int라고 표현함\n",
        "- 음수, 양수, 0 3 가지가 있습니다\n",
        "- 4바이트를 할당해요 - 웬만한 숫자는 다 들어감\n",
        "- 속도는 느려짐"
      ],
      "metadata": {
        "id": "B0Cg6UBb64Lq"
      }
    },
    {
      "cell_type": "code",
      "source": [
        "-1"
      ],
      "metadata": {
        "colab": {
          "base_uri": "https://localhost:8080/"
        },
        "id": "4vJzXpmx5r7T",
        "outputId": "88f4d674-ca8d-40b5-bd48-dd0ac57f21e1"
      },
      "execution_count": null,
      "outputs": [
        {
          "output_type": "execute_result",
          "data": {
            "text/plain": [
              "-1"
            ]
          },
          "metadata": {},
          "execution_count": 6
        }
      ]
    },
    {
      "cell_type": "code",
      "source": [
        "int(-1)"
      ],
      "metadata": {
        "colab": {
          "base_uri": "https://localhost:8080/"
        },
        "id": "MUmv9G697MmW",
        "outputId": "cda258f5-4cb1-4bc8-c9fe-7de5763d1d47"
      },
      "execution_count": null,
      "outputs": [
        {
          "output_type": "execute_result",
          "data": {
            "text/plain": [
              "-1"
            ]
          },
          "metadata": {},
          "execution_count": 7
        }
      ]
    },
    {
      "cell_type": "code",
      "source": [
        "int(1)"
      ],
      "metadata": {
        "colab": {
          "base_uri": "https://localhost:8080/"
        },
        "id": "5jIn35ZA7OXR",
        "outputId": "b8f15061-d776-4415-f7df-6ea8fccc9ac9"
      },
      "execution_count": null,
      "outputs": [
        {
          "output_type": "execute_result",
          "data": {
            "text/plain": [
              "1"
            ]
          },
          "metadata": {},
          "execution_count": 8
        }
      ]
    },
    {
      "cell_type": "code",
      "source": [
        "int(2*6)"
      ],
      "metadata": {
        "colab": {
          "base_uri": "https://localhost:8080/"
        },
        "id": "IhUP6nUq7PuI",
        "outputId": "9d89755a-eacd-4f47-adc8-6c655870961b"
      },
      "execution_count": null,
      "outputs": [
        {
          "output_type": "execute_result",
          "data": {
            "text/plain": [
              "12"
            ]
          },
          "metadata": {},
          "execution_count": 9
        }
      ]
    },
    {
      "cell_type": "code",
      "source": [
        "int(0)"
      ],
      "metadata": {
        "colab": {
          "base_uri": "https://localhost:8080/"
        },
        "id": "j-h27JRZ7RR0",
        "outputId": "16508903-6208-4c62-cb2e-e560d6aed72a"
      },
      "execution_count": null,
      "outputs": [
        {
          "output_type": "execute_result",
          "data": {
            "text/plain": [
              "0"
            ]
          },
          "metadata": {},
          "execution_count": 10
        }
      ]
    },
    {
      "cell_type": "code",
      "source": [
        "-3"
      ],
      "metadata": {
        "colab": {
          "base_uri": "https://localhost:8080/"
        },
        "id": "sfPIBG567Thu",
        "outputId": "102cb1d0-df56-4a19-9839-9f4089a92a51"
      },
      "execution_count": null,
      "outputs": [
        {
          "output_type": "execute_result",
          "data": {
            "text/plain": [
              "-3"
            ]
          },
          "metadata": {},
          "execution_count": 11
        }
      ]
    },
    {
      "cell_type": "code",
      "source": [
        "a = 1235465489879879"
      ],
      "metadata": {
        "id": "tldUYQHK7UaX"
      },
      "execution_count": null,
      "outputs": []
    },
    {
      "cell_type": "code",
      "source": [
        "int(a)"
      ],
      "metadata": {
        "colab": {
          "base_uri": "https://localhost:8080/"
        },
        "id": "0FsKbg--7Y4z",
        "outputId": "b492359a-c2c1-4369-8c78-fc988e378fea"
      },
      "execution_count": null,
      "outputs": [
        {
          "output_type": "execute_result",
          "data": {
            "text/plain": [
              "1235465489879879"
            ]
          },
          "metadata": {},
          "execution_count": 13
        }
      ]
    },
    {
      "cell_type": "code",
      "source": [
        "b = 154654987987\n"
      ],
      "metadata": {
        "id": "vEdaTXIk7Z4e"
      },
      "execution_count": null,
      "outputs": []
    },
    {
      "cell_type": "code",
      "source": [
        "print(a+b)"
      ],
      "metadata": {
        "colab": {
          "base_uri": "https://localhost:8080/"
        },
        "id": "RkEpx37R7diU",
        "outputId": "13550d0d-d752-4261-ef8c-5a1a25cec45a"
      },
      "execution_count": null,
      "outputs": [
        {
          "output_type": "stream",
          "name": "stdout",
          "text": [
            "1235620144867866\n"
          ]
        }
      ]
    },
    {
      "cell_type": "code",
      "source": [
        "type(a+b)"
      ],
      "metadata": {
        "colab": {
          "base_uri": "https://localhost:8080/"
        },
        "id": "MnxcG11x7fin",
        "outputId": "57fad908-a8ea-4bc0-ce75-88b6b6e76deb"
      },
      "execution_count": null,
      "outputs": [
        {
          "output_type": "execute_result",
          "data": {
            "text/plain": [
              "int"
            ]
          },
          "metadata": {},
          "execution_count": 16
        }
      ]
    },
    {
      "cell_type": "markdown",
      "source": [
        "#실수(float)\n",
        "\n",
        "- 파이썬에서는 float 하나만 제공\n",
        " - 부동소수점 방식 (https://steemit.com/kr/@modolee/floating-point)\n",
        " - 움직이는 소수점 방식\n",
        " - 소수점 위치가 고정되어 있지 않고 바뀜\n",
        " - 인터프리터의 오차"
      ],
      "metadata": {
        "id": "Kphkbjsu7lwZ"
      }
    },
    {
      "cell_type": "code",
      "source": [
        "type(1.656449)"
      ],
      "metadata": {
        "id": "7YyHD16p7i1S",
        "colab": {
          "base_uri": "https://localhost:8080/"
        },
        "outputId": "f4eded47-e04d-4527-bdf1-fa8cb7f72f30"
      },
      "execution_count": null,
      "outputs": [
        {
          "output_type": "execute_result",
          "data": {
            "text/plain": [
              "float"
            ]
          },
          "metadata": {},
          "execution_count": 1
        }
      ]
    },
    {
      "cell_type": "code",
      "source": [
        "type(.)"
      ],
      "metadata": {
        "colab": {
          "base_uri": "https://localhost:8080/",
          "height": 136
        },
        "id": "cfVlWPQj-rtb",
        "outputId": "e39de355-68be-46b4-c1ac-56e8fa6413cc"
      },
      "execution_count": null,
      "outputs": [
        {
          "output_type": "error",
          "ename": "SyntaxError",
          "evalue": "ignored",
          "traceback": [
            "\u001b[0;36m  File \u001b[0;32m\"<ipython-input-2-be29e4431175>\"\u001b[0;36m, line \u001b[0;32m1\u001b[0m\n\u001b[0;31m    type(.)\u001b[0m\n\u001b[0m         ^\u001b[0m\n\u001b[0;31mSyntaxError\u001b[0m\u001b[0;31m:\u001b[0m invalid syntax\n"
          ]
        }
      ]
    },
    {
      "cell_type": "markdown",
      "source": [
        "# 불리언(bool)\n",
        "-불리언(boolean)은 논리학에서 참(true)과 거짓(false)을 나타내는 데 사용됩니다.\n",
        "-논리 연산(logical operation)이란 주어진 논리식을 판단하여 참(true)과 거짓(false)을 결정하는 연산\n",
        "\n",
        "* 파이썬 참/거짓 불리언 자료형\n",
        "* 파이썬에서 참과 거짓을 판단하는 방법은 아주 다양하다.\n"
      ],
      "metadata": {
        "id": "v60We5Zl-yup"
      }
    },
    {
      "cell_type": "code",
      "source": [
        "true_date = True;\n",
        "print(type(true_date))\n",
        "\n",
        "true_date = False;\n",
        "print(type(true_date))"
      ],
      "metadata": {
        "colab": {
          "base_uri": "https://localhost:8080/"
        },
        "id": "62z9mdSZ-v4i",
        "outputId": "b1677ca5-b83d-4bad-a174-77a0dfc74fbc"
      },
      "execution_count": null,
      "outputs": [
        {
          "output_type": "stream",
          "name": "stdout",
          "text": [
            "<class 'bool'>\n",
            "<class 'bool'>\n"
          ]
        }
      ]
    },
    {
      "cell_type": "markdown",
      "source": [
        "자료형 참/거짓 판단하기 \n",
        "\n",
        "- 값:'''', 빈문자열:비어있으면 거짓, 값이 있으면 참\n",
        "- 값:\"\", 공백만 있고 비어 있는 문자열:x와 y 둘중 하나가 거짓일때\n",
        "- 값:[], 빈리스트(list):비어있으면 거짓, 값이 있으면 참\n",
        "- 값:{}, 빈사전(dictionary) : 비어있으면 거짓, 값이 있으면 참\n",
        "- 값:(), 빈튜플(tuple) : 비어있으면 거짓, 값이 있으면 참\n",
        "- 1: 숫자1 참\n",
        "- 2: 숫자2 거짓\n",
        "- 200 : 0이 아닌 숫자 :0을 제외한 숫자는 참\n",
        "\n",
        "| A | B |AND | OR | not A | not B |\n",
        "|:---:|:---:|:---:|:---:|:---:|:---:|\n",
        "|T|T|T|T|F|F|\n",
        "|T|F|F|T|F|T|\n",
        "|F|T|F|T|T|F|\n",
        "|F|F|F|F|T|T|"
      ],
      "metadata": {
        "id": "8Y6RFv85BJ9C"
      }
    },
    {
      "cell_type": "markdown",
      "source": [
        "# 문자열(string)\n",
        "- 문자와 문자열은 다른 개념\n",
        "- 문자와 문자열을 따로 구분하지 않고 string으로 취급\n",
        "- 파이썬에서 문자열을 표현하는 방법은 3가지\n",
        "- '',\"\",''''''(어퍼스트로피:apostrophe)-> 멀티라인 제외하고 작은따옴표와 큰따옴표의 차이는 없음\n",
        "- 처음에 열어준 따옴표로 닫아 주기도 해야 한다\n",
        "- 파이썬에서는 한줄에 하나의 명령어 또는 하나의 문자열을 입력하는것이 원칙"
      ],
      "metadata": {
        "id": "c70YZgLLCUyZ"
      }
    },
    {
      "cell_type": "code",
      "source": [
        "'hello'"
      ],
      "metadata": {
        "colab": {
          "base_uri": "https://localhost:8080/",
          "height": 35
        },
        "id": "ByCVUe5bCtbj",
        "outputId": "983bb07f-caa3-48dd-88a5-73e8ed410be8"
      },
      "execution_count": null,
      "outputs": [
        {
          "output_type": "execute_result",
          "data": {
            "text/plain": [
              "'hello'"
            ],
            "application/vnd.google.colaboratory.intrinsic+json": {
              "type": "string"
            }
          },
          "metadata": {},
          "execution_count": 5
        }
      ]
    },
    {
      "cell_type": "code",
      "source": [
        "print(\"hello\")"
      ],
      "metadata": {
        "colab": {
          "base_uri": "https://localhost:8080/"
        },
        "id": "ijc6tYNeA0Z4",
        "outputId": "18a99c7f-ae7c-464a-f6b5-0a9ecd2c9da4"
      },
      "execution_count": null,
      "outputs": [
        {
          "output_type": "stream",
          "name": "stdout",
          "text": [
            "hello\n"
          ]
        }
      ]
    },
    {
      "cell_type": "code",
      "source": [
        "\"hello\""
      ],
      "metadata": {
        "colab": {
          "base_uri": "https://localhost:8080/",
          "height": 35
        },
        "id": "IM3mj6MhASEE",
        "outputId": "f7738967-5c86-4874-8bbf-4e9d0177505b"
      },
      "execution_count": null,
      "outputs": [
        {
          "output_type": "execute_result",
          "data": {
            "text/plain": [
              "'hello'"
            ],
            "application/vnd.google.colaboratory.intrinsic+json": {
              "type": "string"
            }
          },
          "metadata": {},
          "execution_count": 7
        }
      ]
    },
    {
      "cell_type": "code",
      "source": [
        "print('hello\")"
      ],
      "metadata": {
        "colab": {
          "base_uri": "https://localhost:8080/",
          "height": 136
        },
        "id": "SpSdySVICyky",
        "outputId": "feae2bc3-5d6f-4271-9200-b419918d71b6"
      },
      "execution_count": null,
      "outputs": [
        {
          "output_type": "error",
          "ename": "SyntaxError",
          "evalue": "ignored",
          "traceback": [
            "\u001b[0;36m  File \u001b[0;32m\"<ipython-input-8-7bbc1c3d3037>\"\u001b[0;36m, line \u001b[0;32m1\u001b[0m\n\u001b[0;31m    print('hello\")\u001b[0m\n\u001b[0m                  ^\u001b[0m\n\u001b[0;31mSyntaxError\u001b[0m\u001b[0;31m:\u001b[0m EOL while scanning string literal\n"
          ]
        }
      ]
    },
    {
      "cell_type": "code",
      "source": [
        "'how \n",
        "are you' # 한줄에 1명령어, 1문자열입력!! 입력, EOL"
      ],
      "metadata": {
        "colab": {
          "base_uri": "https://localhost:8080/",
          "height": 136
        },
        "id": "f_uBz1glC078",
        "outputId": "abc3baae-5c37-4c72-e824-7bedf651aeff"
      },
      "execution_count": null,
      "outputs": [
        {
          "output_type": "error",
          "ename": "SyntaxError",
          "evalue": "ignored",
          "traceback": [
            "\u001b[0;36m  File \u001b[0;32m\"<ipython-input-9-86f37b952787>\"\u001b[0;36m, line \u001b[0;32m1\u001b[0m\n\u001b[0;31m    'how\u001b[0m\n\u001b[0m         ^\u001b[0m\n\u001b[0;31mSyntaxError\u001b[0m\u001b[0;31m:\u001b[0m EOL while scanning string literal\n"
          ]
        }
      ]
    },
    {
      "cell_type": "code",
      "source": [
        "print('in') print('free')"
      ],
      "metadata": {
        "colab": {
          "base_uri": "https://localhost:8080/",
          "height": 136
        },
        "id": "60u2zlKBC45w",
        "outputId": "9a1ba88f-9e0c-4343-d339-33d29b02e53d"
      },
      "execution_count": null,
      "outputs": [
        {
          "output_type": "error",
          "ename": "SyntaxError",
          "evalue": "ignored",
          "traceback": [
            "\u001b[0;36m  File \u001b[0;32m\"<ipython-input-10-1811f6643865>\"\u001b[0;36m, line \u001b[0;32m1\u001b[0m\n\u001b[0;31m    print('in') print('free')\u001b[0m\n\u001b[0m                    ^\u001b[0m\n\u001b[0;31mSyntaxError\u001b[0m\u001b[0;31m:\u001b[0m invalid syntax\n"
          ]
        }
      ]
    },
    {
      "cell_type": "code",
      "source": [
        "# 멀티라인\n",
        "'''Happy\n",
        "day'''"
      ],
      "metadata": {
        "colab": {
          "base_uri": "https://localhost:8080/",
          "height": 35
        },
        "id": "osHmwQFGDLCn",
        "outputId": "5a0f61a1-b57b-494b-e050-84432e983c7e"
      },
      "execution_count": null,
      "outputs": [
        {
          "output_type": "execute_result",
          "data": {
            "text/plain": [
              "'Happy\\nday'"
            ],
            "application/vnd.google.colaboratory.intrinsic+json": {
              "type": "string"
            }
          },
          "metadata": {},
          "execution_count": 11
        }
      ]
    },
    {
      "cell_type": "code",
      "source": [
        "# 명령어를 여러개 넣어 줄때는 ;넣어준다\n",
        "print('happy');print('day')"
      ],
      "metadata": {
        "colab": {
          "base_uri": "https://localhost:8080/"
        },
        "id": "60AoyEYUDTEP",
        "outputId": "ad844c03-c6f7-45bf-8669-11e959f05063"
      },
      "execution_count": null,
      "outputs": [
        {
          "output_type": "stream",
          "name": "stdout",
          "text": [
            "happy\n",
            "day\n"
          ]
        }
      ]
    },
    {
      "cell_type": "code",
      "source": [
        "# 코드의 띄어쓰기, 대/소문자 엄격\n",
        "# 아스키 코드 값이 다르면 다른 문자로 인식\n",
        "# 다른 문자처럼 보여도 아스키 코드값이 같으면 같은 문자\n",
        "'b' == 'B'"
      ],
      "metadata": {
        "colab": {
          "base_uri": "https://localhost:8080/"
        },
        "id": "hMhi_SwADeAn",
        "outputId": "065bda91-0fae-4f1a-bb58-bba11b30f38d"
      },
      "execution_count": null,
      "outputs": [
        {
          "output_type": "execute_result",
          "data": {
            "text/plain": [
              "False"
            ]
          },
          "metadata": {},
          "execution_count": 13
        }
      ]
    },
    {
      "cell_type": "code",
      "source": [
        "# 숫자는 대문자 소문자가 없음. 대/소문자 구분하지 않음\n",
        "10 == 10*1"
      ],
      "metadata": {
        "colab": {
          "base_uri": "https://localhost:8080/"
        },
        "id": "GIZezbkPDy4J",
        "outputId": "4a6517b6-5253-4c42-b45a-3186b3c737d6"
      },
      "execution_count": null,
      "outputs": [
        {
          "output_type": "execute_result",
          "data": {
            "text/plain": [
              "True"
            ]
          },
          "metadata": {},
          "execution_count": 14
        }
      ]
    },
    {
      "cell_type": "code",
      "source": [
        "# 아스키 코드 값으로 문자도 대소비교를 한다 \n",
        "'a'>'A'"
      ],
      "metadata": {
        "colab": {
          "base_uri": "https://localhost:8080/"
        },
        "id": "-J2cVDfYD5xA",
        "outputId": "e63c20da-4075-49da-f18b-efac8a7bcfa2"
      },
      "execution_count": null,
      "outputs": [
        {
          "output_type": "execute_result",
          "data": {
            "text/plain": [
              "True"
            ]
          },
          "metadata": {},
          "execution_count": 15
        }
      ]
    },
    {
      "cell_type": "code",
      "source": [
        "# 문자열 이스케이프\n",
        "\n",
        "- 문자를 사용할때 충돌이 발생하는 경우들이 있다\n",
        "- 우리가 사용하는 문자로써가 아니라 파이썬 인터프리터에서 이미 용도가 정해진 문자들\n",
        "- This's a dog - 어퍼스트로피는 파이썬에서 이미 약속된 규칙으로 문자열의 앞뒤를 감싸주는 작은따옴표와 기호가 같음\n",
        "  -> 파이썬인터프리터에서의 역할과 우리가 입력하는 자료로서 역할이 충돌을 하는 것\n",
        "- 충돌을 막기 위해서 \\()뒤에 그문자, 혹은 그 문자를 의미하는 약어를 사용하는 방법으로 충돌을 피하는것 : 이를 이스케이핑!!\n",
        "https://andamiro25.tistory.com/13\n",
        "  - letter = 'a'# letter''a'와 같은의미\n",
        "\n",
        "  - ord()함수:특정한 문자를 아스키코드(ASCII)로 반환하는 함수\n",
        "  - chr()함수 : 코드형태로 표현된 문자를 문자형태로 반환하는 함수\n",
        "\n",
        "\n",
        "  - \\b:백스페이스(backspace)\n",
        "  - \\t:탭(tab)\n",
        "  - \\n:라인피드(Linefeed)\n",
        "  - \\f:폼피드(Formfeed)\n",
        "  - \\r:캐리지(Carriage Returen)\n",
        "  - \\\\: 역슬래시(Backlash)\n",
        "  - \\':작은따옴표(single Quote)\n",
        "  - \\\":큰따옴표(double Quote)"
      ],
      "metadata": {
        "id": "phJ4aGLjEBRP"
      },
      "execution_count": null,
      "outputs": []
    },
    {
      "cell_type": "code",
      "source": [
        "print(\"잘잤어요?\\t오늘 아침은 뭐먹을까요?\") # \\t:4칸띄기"
      ],
      "metadata": {
        "colab": {
          "base_uri": "https://localhost:8080/"
        },
        "id": "pwheh6BXFK7l",
        "outputId": "558735c6-3871-4ed8-b98f-aa13c98fcf03"
      },
      "execution_count": null,
      "outputs": [
        {
          "output_type": "stream",
          "name": "stdout",
          "text": [
            "잘잤어요?\t오늘 아침은 뭐먹을까요?\n"
          ]
        }
      ]
    },
    {
      "cell_type": "code",
      "source": [
        "print(\"잘잤어요?\\b오늘 아침은 뭐먹을까요?\") # \\b:앞에있는것 지우기"
      ],
      "metadata": {
        "colab": {
          "base_uri": "https://localhost:8080/"
        },
        "id": "IpZbzJanGD0V",
        "outputId": "b874b237-bbb0-448e-cf63-959e082630e3"
      },
      "execution_count": null,
      "outputs": [
        {
          "output_type": "stream",
          "name": "stdout",
          "text": [
            "잘잤어요?\b오늘 아침은 뭐먹을까요?\n"
          ]
        }
      ]
    },
    {
      "cell_type": "code",
      "source": [
        "print(\"잘잤어요?\\n오늘 아침은 뭐먹을까요?\") # \\n:라인 아래로"
      ],
      "metadata": {
        "colab": {
          "base_uri": "https://localhost:8080/"
        },
        "id": "jHMDpfymHvhh",
        "outputId": "a419de80-f196-4bf8-b401-0bf9b9210658"
      },
      "execution_count": null,
      "outputs": [
        {
          "output_type": "stream",
          "name": "stdout",
          "text": [
            "잘잤어요?\n",
            "오늘 아침은 뭐먹을까요?\n"
          ]
        }
      ]
    },
    {
      "cell_type": "code",
      "source": [
        "print(\"잘잤어요?\\f오늘 아침은 뭐먹을까요?\")# \\f:한칸 지우기"
      ],
      "metadata": {
        "colab": {
          "base_uri": "https://localhost:8080/"
        },
        "id": "O3eCTor1H5Yf",
        "outputId": "bf1b356c-cf13-4318-80b6-84bb78ae61c1"
      },
      "execution_count": null,
      "outputs": [
        {
          "output_type": "stream",
          "name": "stdout",
          "text": [
            "잘잤어요?\f오늘 아침은 뭐먹을까요?\n"
          ]
        }
      ]
    },
    {
      "cell_type": "code",
      "source": [
        "print(\"잘잤어요?\\r오늘 아침은 뭐먹을까요?\") # \\r:앞문장 지우기"
      ],
      "metadata": {
        "colab": {
          "base_uri": "https://localhost:8080/"
        },
        "id": "kAjWqgA6IBDc",
        "outputId": "e0bdd711-581e-4984-ba27-501190471b21"
      },
      "execution_count": null,
      "outputs": [
        {
          "output_type": "stream",
          "name": "stdout",
          "text": [
            "잘잤어요?\r오늘 아침은 뭐먹을까요?\n"
          ]
        }
      ]
    },
    {
      "cell_type": "code",
      "source": [
        "print(\"잘잤어요?\\\\오늘 아침은 뭐먹을까요?\")"
      ],
      "metadata": {
        "colab": {
          "base_uri": "https://localhost:8080/"
        },
        "id": "obUmVIM9IG7r",
        "outputId": "ab8b6a8d-a0d1-4f87-b653-6773c1f9d4ff"
      },
      "execution_count": null,
      "outputs": [
        {
          "output_type": "stream",
          "name": "stdout",
          "text": [
            "잘잤어요?\\오늘 아침은 뭐먹을까요?\n"
          ]
        }
      ]
    },
    {
      "cell_type": "markdown",
      "source": [
        "줄바꿈 없이 출력하기(printing without the newline\n",
        "- 우리가 print 함수를 이용할때, 함수가 끝날때 자동적으로 줄바꿈(\\n)진행한다\n",
        "- 만약에 줄바꿈을 하고 싶지 않은 경우, 우리는 end=\"anyendingstring\" 을 사용"
      ],
      "metadata": {
        "id": "E8sOtcX4IqYF"
      }
    },
    {
      "cell_type": "code",
      "source": [
        "print(item,end=\"anyendingstring\")"
      ],
      "metadata": {
        "colab": {
          "base_uri": "https://localhost:8080/",
          "height": 172
        },
        "id": "iI6K_xiiIpzG",
        "outputId": "446e7274-d5d0-411f-d185-dff7b91b6de2"
      },
      "execution_count": null,
      "outputs": [
        {
          "output_type": "error",
          "ename": "NameError",
          "evalue": "ignored",
          "traceback": [
            "\u001b[0;31m---------------------------------------------------------------------------\u001b[0m",
            "\u001b[0;31mNameError\u001b[0m                                 Traceback (most recent call last)",
            "\u001b[0;32m<ipython-input-23-ba829967ea2e>\u001b[0m in \u001b[0;36m<module>\u001b[0;34m()\u001b[0m\n\u001b[0;32m----> 1\u001b[0;31m \u001b[0mprint\u001b[0m\u001b[0;34m(\u001b[0m\u001b[0mitem\u001b[0m\u001b[0;34m,\u001b[0m\u001b[0mend\u001b[0m\u001b[0;34m=\u001b[0m\u001b[0;34m\"anyendingstring\"\u001b[0m\u001b[0;34m)\u001b[0m\u001b[0;34m\u001b[0m\u001b[0;34m\u001b[0m\u001b[0m\n\u001b[0m",
            "\u001b[0;31mNameError\u001b[0m: name 'item' is not defined"
          ]
        }
      ]
    },
    {
      "cell_type": "markdown",
      "source": [
        "# 사칙연산(+,-,/,*)\n",
        "\n",
        "- 추가적인 사칙연산:지수연산(**)목연산(//)나머지연산(%)fh vyrl\n",
        "\n",
        "- 논리연산자 - 분리언 연산자(and or not)\n",
        "- 비교연산자\n",
        "    - = 같다라는 뜻 아님 -> 프로그래밍 언어 에서는 할당연산자로 사용\n",
        "    - == 같다라는 뜻 -> 항등연산자, 자료형 타입과 값을 함께 비교\n",
        "    - a = 3a라는 변수명에 3을 넣겠다\n",
        "    - ==,!=,<,>,<=,>=\n",
        "    "
      ],
      "metadata": {
        "id": "m-haxhbCGYzW"
      }
    },
    {
      "cell_type": "code",
      "source": [
        "'dog'<='Dog'"
      ],
      "metadata": {
        "id": "oKUbqZFjINtF",
        "colab": {
          "base_uri": "https://localhost:8080/"
        },
        "outputId": "d2e2b611-cae5-43db-bc0f-f37054e79b3d"
      },
      "execution_count": 1,
      "outputs": [
        {
          "output_type": "execute_result",
          "data": {
            "text/plain": [
              "False"
            ]
          },
          "metadata": {},
          "execution_count": 1
        }
      ]
    },
    {
      "cell_type": "code",
      "source": [
        "4"
      ],
      "metadata": {
        "colab": {
          "base_uri": "https://localhost:8080/"
        },
        "id": "JGQgMQkjHVI4",
        "outputId": "ce33d2af-65b1-4634-e40a-da2dceed17b4"
      },
      "execution_count": 2,
      "outputs": [
        {
          "output_type": "execute_result",
          "data": {
            "text/plain": [
              "4"
            ]
          },
          "metadata": {},
          "execution_count": 2
        }
      ]
    },
    {
      "cell_type": "code",
      "source": [
        "type(-4)"
      ],
      "metadata": {
        "colab": {
          "base_uri": "https://localhost:8080/"
        },
        "id": "mAmLFGxHHXys",
        "outputId": "37611ae8-dfc3-4dfe-b79f-f5ac2cbde42e"
      },
      "execution_count": 3,
      "outputs": [
        {
          "output_type": "execute_result",
          "data": {
            "text/plain": [
              "int"
            ]
          },
          "metadata": {},
          "execution_count": 3
        }
      ]
    },
    {
      "cell_type": "code",
      "source": [
        "type(2)"
      ],
      "metadata": {
        "colab": {
          "base_uri": "https://localhost:8080/"
        },
        "id": "bTWx9W8uHY-y",
        "outputId": "36069fdb-4851-43f0-e3b0-c746a754d49b"
      },
      "execution_count": 4,
      "outputs": [
        {
          "output_type": "execute_result",
          "data": {
            "text/plain": [
              "int"
            ]
          },
          "metadata": {},
          "execution_count": 4
        }
      ]
    },
    {
      "cell_type": "code",
      "source": [
        "type(2.12)"
      ],
      "metadata": {
        "colab": {
          "base_uri": "https://localhost:8080/"
        },
        "id": "U4-3YuAJHaag",
        "outputId": "73ecce51-d174-446f-c5eb-cd727c716b89"
      },
      "execution_count": 5,
      "outputs": [
        {
          "output_type": "execute_result",
          "data": {
            "text/plain": [
              "float"
            ]
          },
          "metadata": {},
          "execution_count": 5
        }
      ]
    },
    {
      "cell_type": "markdown",
      "source": [
        "## 논리 연산\n",
        "- and, or, not \n",
        "- 명제들간의 견산의 결과를 논리적으로 표현하는 방법입니다.\n",
        "\n",
        "  - 명제? 참/거짓을 구분할 수 있는 모든 문장\n",
        "  - True / False를 실행결과로 반환할 수 있는 모든 명령어를 의미합니다.\n",
        "\n",
        "  \n",
        "| A | B |AND | OR | not A | not B |\n",
        "|:---:|:---:|:---:|:---:|:---:|:---:|\n",
        "|T|T|T|T|F|F|\n",
        "|T|F|F|T|F|T|\n",
        "|F|T|F|T|T|F|\n",
        "|F|F|F|F|T|T|\n",
        "\n",
        "\n",
        "- 세상에 완전히 새로운 생각은 없다. \n",
        "- 기존에 했던 생각에 and, or, not 세개를 붙인 생각만이 있을 뿐이다.\n",
        "\n",
        "\n",
        "- 우선순위\n",
        "not > and > or"
      ],
      "metadata": {
        "id": "AzqRzE03H6N7"
      }
    },
    {
      "cell_type": "code",
      "source": [
        "1==1 and 1 "
      ],
      "metadata": {
        "colab": {
          "base_uri": "https://localhost:8080/"
        },
        "id": "BFPbuyufHcSA",
        "outputId": "027d3292-9d68-4d73-ea6e-a31647555a73"
      },
      "execution_count": 6,
      "outputs": [
        {
          "output_type": "execute_result",
          "data": {
            "text/plain": [
              "1"
            ]
          },
          "metadata": {},
          "execution_count": 6
        }
      ]
    },
    {
      "cell_type": "code",
      "source": [
        "print(1<1 and 2<1)"
      ],
      "metadata": {
        "colab": {
          "base_uri": "https://localhost:8080/"
        },
        "id": "bjK7CZWKIMlP",
        "outputId": "ba95310f-f5f7-454f-cb30-b23375d558c3"
      },
      "execution_count": 7,
      "outputs": [
        {
          "output_type": "stream",
          "name": "stdout",
          "text": [
            "False\n"
          ]
        }
      ]
    },
    {
      "cell_type": "code",
      "source": [
        ""
      ],
      "metadata": {
        "id": "goKKl1qFIRuC"
      },
      "execution_count": null,
      "outputs": []
    }
  ]
}