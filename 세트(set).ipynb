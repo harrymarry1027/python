{
  "nbformat": 4,
  "nbformat_minor": 0,
  "metadata": {
    "colab": {
      "name": "세트(set).ipynb",
      "provenance": [],
      "collapsed_sections": [],
      "authorship_tag": "ABX9TyN3SYVvOk3wNScgOsurEnf0",
      "include_colab_link": true
    },
    "kernelspec": {
      "name": "python3",
      "display_name": "Python 3"
    },
    "language_info": {
      "name": "python"
    }
  },
  "cells": [
    {
      "cell_type": "markdown",
      "metadata": {
        "id": "view-in-github",
        "colab_type": "text"
      },
      "source": [
        "<a href=\"https://colab.research.google.com/github/harrymarry1027/python/blob/main/%EC%84%B8%ED%8A%B8(set).ipynb\" target=\"_parent\"><img src=\"https://colab.research.google.com/assets/colab-badge.svg\" alt=\"Open In Colab\"/></a>"
      ]
    },
    {
      "cell_type": "markdown",
      "source": [
        "# 세트(set)\n",
        "\n",
        "- 수학의 집합 개념을 파이썬에서 이용할수 있도록 만든 데이터 타입\n",
        "- 리스트와 튜플과 다른점은 데이터의 순서가 없고 데이터를 중복해서 쓸수 없다는 것\n",
        "- 리스트에서 사용했던 메서드 외에 집합의 기본이 되는 교집합, 합집합, 차집합을 사용할수 있다\n",
        "\n",
        "- 세트 만들기 \n",
        " ```\n",
        " a={,}\n",
        " ```"
      ],
      "metadata": {
        "id": "P1Yrv7v637ch"
      }
    },
    {
      "cell_type": "code",
      "execution_count": 2,
      "metadata": {
        "colab": {
          "base_uri": "https://localhost:8080/"
        },
        "id": "TUIPGNse3V5O",
        "outputId": "c0cf4df8-34f0-488b-cfff-5fc15b7e404b"
      },
      "outputs": [
        {
          "output_type": "stream",
          "name": "stdout",
          "text": [
            "{1, 2, 3, 4}\n",
            "{1, 2, 3, 4}\n"
          ]
        }
      ],
      "source": [
        "set={1,2,3,4}\n",
        "set1={1,2,3,4,4}\n",
        "\n",
        "print(set)\n",
        "print(set1)"
      ]
    },
    {
      "cell_type": "code",
      "source": [
        "type(set1)"
      ],
      "metadata": {
        "colab": {
          "base_uri": "https://localhost:8080/"
        },
        "id": "dQ8yCVoL4fYg",
        "outputId": "86725e24-2198-48a2-ae88-4bcd1771ab2d"
      },
      "execution_count": 3,
      "outputs": [
        {
          "output_type": "execute_result",
          "data": {
            "text/plain": [
              "set"
            ]
          },
          "metadata": {},
          "execution_count": 3
        }
      ]
    },
    {
      "cell_type": "markdown",
      "source": [
        "# 세트의 교집합, 합집합, 차집합 구하기 "
      ],
      "metadata": {
        "id": "B1V5M0yx4oMI"
      }
    },
    {
      "cell_type": "markdown",
      "source": [
        "- 교집합"
      ],
      "metadata": {
        "id": "uA8Wx7z84u8e"
      }
    },
    {
      "cell_type": "code",
      "source": [
        "A = {1,2,3,4,5,6}\n",
        "B = {4,5,6,7,8,9,10}\n",
        "\n",
        "A.intersection(B)"
      ],
      "metadata": {
        "colab": {
          "base_uri": "https://localhost:8080/"
        },
        "id": "VgS8B1OZ4nHf",
        "outputId": "cc1158ae-b2aa-4a09-c84d-697d86264348"
      },
      "execution_count": 4,
      "outputs": [
        {
          "output_type": "execute_result",
          "data": {
            "text/plain": [
              "{4, 5, 6}"
            ]
          },
          "metadata": {},
          "execution_count": 4
        }
      ]
    },
    {
      "cell_type": "code",
      "source": [
        "A &B"
      ],
      "metadata": {
        "colab": {
          "base_uri": "https://localhost:8080/"
        },
        "id": "KhCuzyFJ49yB",
        "outputId": "915c17a5-78ee-4ca6-db90-afb817c793f7"
      },
      "execution_count": 10,
      "outputs": [
        {
          "output_type": "execute_result",
          "data": {
            "text/plain": [
              "{4, 5, 6}"
            ]
          },
          "metadata": {},
          "execution_count": 10
        }
      ]
    },
    {
      "cell_type": "markdown",
      "source": [
        "- 차집합"
      ],
      "metadata": {
        "id": "ne2IidQ15EfQ"
      }
    },
    {
      "cell_type": "code",
      "source": [
        "A.difference(B)"
      ],
      "metadata": {
        "colab": {
          "base_uri": "https://localhost:8080/"
        },
        "id": "HqQq5iH95DWE",
        "outputId": "831da0cc-a562-4588-8f36-5ec3d9a5f8a1"
      },
      "execution_count": 6,
      "outputs": [
        {
          "output_type": "execute_result",
          "data": {
            "text/plain": [
              "{1, 2, 3}"
            ]
          },
          "metadata": {},
          "execution_count": 6
        }
      ]
    },
    {
      "cell_type": "code",
      "source": [
        "A-B"
      ],
      "metadata": {
        "colab": {
          "base_uri": "https://localhost:8080/"
        },
        "id": "emx1w9gp5MH1",
        "outputId": "5559085f-a688-4830-8577-1992f33757fe"
      },
      "execution_count": 11,
      "outputs": [
        {
          "output_type": "execute_result",
          "data": {
            "text/plain": [
              "{1, 2, 3}"
            ]
          },
          "metadata": {},
          "execution_count": 11
        }
      ]
    },
    {
      "cell_type": "markdown",
      "source": [
        "- 합집합"
      ],
      "metadata": {
        "id": "sIr91Fnt5WGI"
      }
    },
    {
      "cell_type": "code",
      "source": [
        "A.union(B)"
      ],
      "metadata": {
        "colab": {
          "base_uri": "https://localhost:8080/"
        },
        "id": "Te6Y55Eu5QFu",
        "outputId": "212459a1-6e99-4be1-f7dc-b157c54241da"
      },
      "execution_count": 12,
      "outputs": [
        {
          "output_type": "execute_result",
          "data": {
            "text/plain": [
              "{1, 2, 3, 4, 5, 6, 7, 8, 9, 10}"
            ]
          },
          "metadata": {},
          "execution_count": 12
        }
      ]
    },
    {
      "cell_type": "code",
      "source": [
        "A|B"
      ],
      "metadata": {
        "colab": {
          "base_uri": "https://localhost:8080/"
        },
        "id": "9Q5IbGu05mH3",
        "outputId": "fbf541a9-2025-4d56-f0d4-b4ddb29dfeeb"
      },
      "execution_count": 14,
      "outputs": [
        {
          "output_type": "execute_result",
          "data": {
            "text/plain": [
              "{1, 2, 3, 4, 5, 6, 7, 8, 9, 10}"
            ]
          },
          "metadata": {},
          "execution_count": 14
        }
      ]
    },
    {
      "cell_type": "code",
      "source": [
        ""
      ],
      "metadata": {
        "id": "S_EWN7Vv5niy"
      },
      "execution_count": null,
      "outputs": []
    }
  ]
}