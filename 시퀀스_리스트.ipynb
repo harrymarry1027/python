{
  "nbformat": 4,
  "nbformat_minor": 0,
  "metadata": {
    "colab": {
      "name": "시퀀스-리스트.ipynb",
      "provenance": [],
      "collapsed_sections": [],
      "authorship_tag": "ABX9TyP1ZTND/CmwOjZGmwi7kZ9F",
      "include_colab_link": true
    },
    "kernelspec": {
      "name": "python3",
      "display_name": "Python 3"
    },
    "language_info": {
      "name": "python"
    }
  },
  "cells": [
    {
      "cell_type": "markdown",
      "metadata": {
        "id": "view-in-github",
        "colab_type": "text"
      },
      "source": [
        "<a href=\"https://colab.research.google.com/github/harrymarry1027/python/blob/main/%EC%8B%9C%ED%80%80%EC%8A%A4_%EB%A6%AC%EC%8A%A4%ED%8A%B8.ipynb\" target=\"_parent\"><img src=\"https://colab.research.google.com/assets/colab-badge.svg\" alt=\"Open In Colab\"/></a>"
      ]
    },
    {
      "cell_type": "markdown",
      "source": [
        " ## 데이터는 증가할수록 관리가 어렵다. 따라서 하나의 변수에 여러개의 데이터를 저장할수 있어야 효휼적인 데이터 관리가 가능하다\n",
        "\n"
      ],
      "metadata": {
        "id": "cazCrwZ55wDB"
      }
    },
    {
      "cell_type": "markdown",
      "source": [
        "#시퀀스 타입\n",
        "-기본 타입(숫자, 문자열)을 여러개 모아서 하나의 자료형으로 관리하기 위한 방법\n",
        "    -'배열'\n",
        "    -한개 식빵 -> 숫자, 문자열이라면\n",
        "    -시퀀스 타입 -> 식빵들 ... 자료구조의 종류\n",
        "-파이선에서 제공하는 시퀀스 타입\n",
        "\n",
        " -리스트\n",
        "\n",
        "-배열\n",
        "    -가장 많이 사용하는 자료형입니다\n",
        "    -선형자료구조 라고 부릅니다\n",
        "-튜플(tuple)\n",
        "\n",
        "    -리스트와 본질적으로 같아요. \n",
        "    -자료 값을 변경할 수가 없습니다.\n",
        "-튜플로 만들면 - 내부의 자료값을 변하게 하지 않았게 라는 약속입니다.\n",
        "\n",
        "-레인지\n",
        "\n",
        "    -수열을 만든다\n",
        "    -\n",
        "    가변형 타입 vs 불가변형 타입\n",
        "\n",
        "튜플 -> 불가변형 타입\n",
        "\n",
        "자료들의 값을 바꿀 수 없고\n",
        "리스트 -> 가변형 타입\n",
        "\n",
        "자료들의 값을 변경할 수 있습니다.\n",
        "가변형 타입에서만 사용할 수 있는 연산자가 띠로 있기 때문입니다.\n",
        "\n",
        "세트\n",
        "딕셔너리"
      ],
      "metadata": {
        "id": "PVX-XB8R4Z5q"
      }
    },
    {
      "cell_type": "markdown",
      "source": [
        "# 리스트 \n",
        "\n",
        "```\n",
        "list = [a,b,c]\n",
        "```\n",
        "\n",
        "-성격이 같은 여러개의 데이터를 하나의 데이터 세트로 표현하는 방법을 데이터 세트\n",
        "-데이터 세트안에서 구분은 ,(콤마)를 사용해서 구분한다. \n",
        "-데이터 세트 시작과 끝은 [...] 대괄호를 사용한다 \n",
        "\n",
        "- 대괄호와 콤마를 사용해서 여러개의 데이터를 하나의 세트로 만드는 것을 리스트(list)라고 한다 \n",
        "- 배열, 가장많이 사용하는 자료형\n",
        "- 선형 자료구조 이다 \n",
        "\n",
        "    - 변수에 리스트 데이터 저장하기 \n",
        "        ``` \n",
        "        name_set = [\"드링킹 요구르트\",\"딸기 우유\", \"홈런공\"]\n",
        "        ```\n",
        "\n",
        "\n"
      ],
      "metadata": {
        "id": "nKQtU3vj4tpA"
      }
    },
    {
      "cell_type": "code",
      "source": [
        "#리스트 구성하기 "
      ],
      "metadata": {
        "id": "2I8O2a9p7vxy"
      },
      "execution_count": null,
      "outputs": []
    },
    {
      "cell_type": "code",
      "source": [
        "top3 = ['1순위','2순위','3순위']\n",
        "movie_rank = ['닥터 스트레인지','스플릿','럭키']"
      ],
      "metadata": {
        "id": "GJNsmLfa4brC"
      },
      "execution_count": 1,
      "outputs": []
    },
    {
      "cell_type": "code",
      "source": [
        "top3"
      ],
      "metadata": {
        "colab": {
          "base_uri": "https://localhost:8080/"
        },
        "id": "xHnv7rGS7nVL",
        "outputId": "4fad357f-16ac-4119-e673-b5f80979c9c1"
      },
      "execution_count": 3,
      "outputs": [
        {
          "output_type": "execute_result",
          "data": {
            "text/plain": [
              "['1순위', '2순위', '3순위']"
            ]
          },
          "metadata": {},
          "execution_count": 3
        }
      ]
    },
    {
      "cell_type": "code",
      "source": [
        "movie_rank"
      ],
      "metadata": {
        "colab": {
          "base_uri": "https://localhost:8080/"
        },
        "id": "kiuSdjXT7o_L",
        "outputId": "6699a1c3-c150-4187-93bb-b4e4f08c6684"
      },
      "execution_count": 4,
      "outputs": [
        {
          "output_type": "execute_result",
          "data": {
            "text/plain": [
              "['닥터 스트레인지', '스플릿', '럭키']"
            ]
          },
          "metadata": {},
          "execution_count": 4
        }
      ]
    },
    {
      "cell_type": "markdown",
      "source": [
        "- 리스트 변수 \n",
        "\n",
        "    - 리스트에서 각 항목은 '변수명[i]로 지정할수 있다\n",
        "    - i를 리스트 변수의 인덱스(index)\n",
        "    - ex) n 개의 항목이 있는 리스트 타입의 데이터 에서 인덱스 i의 범위는 0부터~'n-1'\n",
        "    - 첫번째 요소 '변수명[0]', 두번째 요소 '변수명[1]','마지막 요소[-1] 지정 가능\n",
        "\n",
        "    "
      ],
      "metadata": {
        "id": "CXrSF4aE8XkL"
      }
    },
    {
      "cell_type": "code",
      "source": [
        "top3[1]"
      ],
      "metadata": {
        "colab": {
          "base_uri": "https://localhost:8080/",
          "height": 35
        },
        "id": "sXkSI8a17r8Y",
        "outputId": "286cd79a-098f-4714-8e6b-52138bc1de47"
      },
      "execution_count": 5,
      "outputs": [
        {
          "output_type": "execute_result",
          "data": {
            "text/plain": [
              "'2순위'"
            ],
            "application/vnd.google.colaboratory.intrinsic+json": {
              "type": "string"
            }
          },
          "metadata": {},
          "execution_count": 5
        }
      ]
    },
    {
      "cell_type": "code",
      "source": [
        "top3[-1]"
      ],
      "metadata": {
        "colab": {
          "base_uri": "https://localhost:8080/",
          "height": 35
        },
        "id": "vQACaZNl7xrn",
        "outputId": "04c5c1ed-7082-4cc9-c485-6eb0c87502ba"
      },
      "execution_count": 6,
      "outputs": [
        {
          "output_type": "execute_result",
          "data": {
            "text/plain": [
              "'3순위'"
            ],
            "application/vnd.google.colaboratory.intrinsic+json": {
              "type": "string"
            }
          },
          "metadata": {},
          "execution_count": 6
        }
      ]
    },
    {
      "cell_type": "markdown",
      "source": [
        "- 리스트 다루기 \n",
        "    - 리스트 더하기 \n",
        "    ```\n",
        "    list_con1 = [1,2,3,4]\n",
        "    list_con2 = [4,5,6,7]\n",
        "    list-con = list_con1 + list_con2 -> 리스트 연결\n",
        "    ```\n",
        "\n",
        "    - 리스트 곱하기 \n",
        "     ```\n",
        "     list_con1 = [1,2,3,4]\n",
        "     list-con = list_con1*3 -> 리스트 반복\n",
        "     ```"
      ],
      "metadata": {
        "id": "JN8VCX7B9XUh"
      }
    },
    {
      "cell_type": "code",
      "source": [
        "ranking = movie_rank + top3\n",
        "print(movie_rank+top3)"
      ],
      "metadata": {
        "colab": {
          "base_uri": "https://localhost:8080/"
        },
        "id": "dcjlbrHK9WSP",
        "outputId": "7ef32993-1e3a-42f1-9758-ead11c4a6f04"
      },
      "execution_count": 7,
      "outputs": [
        {
          "output_type": "stream",
          "name": "stdout",
          "text": [
            "['닥터 스트레인지', '스플릿', '럭키', '1순위', '2순위', '3순위']\n"
          ]
        }
      ]
    },
    {
      "cell_type": "markdown",
      "source": [
        "- 리스트 중 일부 항복 가져 오기 \n",
        "```\n",
        "리스트[i_start:i_end]\n",
        "리스트[i_start:i_end:i_step]\n",
        "```\n",
        "\n",
        "    -i_start : 인덱스의 시작\n",
        "    -i_end : 인덱스의 끝\n",
        "    -I_step : 중간단계"
      ],
      "metadata": {
        "id": "B-DTGgce-S6U"
      }
    },
    {
      "cell_type": "code",
      "source": [
        "list_date=[1,2,3,4,5,6,7,8,9,10]\n",
        "\n",
        "list_date[3]"
      ],
      "metadata": {
        "colab": {
          "base_uri": "https://localhost:8080/"
        },
        "id": "NfWWuqmR-RAY",
        "outputId": "63dde29e-aa5f-4d1a-8eb0-c40eb0c81dd8"
      },
      "execution_count": 9,
      "outputs": [
        {
          "output_type": "execute_result",
          "data": {
            "text/plain": [
              "4"
            ]
          },
          "metadata": {},
          "execution_count": 9
        }
      ]
    },
    {
      "cell_type": "code",
      "source": [
        "list_date[::]"
      ],
      "metadata": {
        "colab": {
          "base_uri": "https://localhost:8080/"
        },
        "id": "VHnd-dbp-7Mq",
        "outputId": "034558c9-4e7a-458c-afdd-fd4c94cd2872"
      },
      "execution_count": 10,
      "outputs": [
        {
          "output_type": "execute_result",
          "data": {
            "text/plain": [
              "[1, 2, 3, 4, 5, 6, 7, 8, 9, 10]"
            ]
          },
          "metadata": {},
          "execution_count": 10
        }
      ]
    },
    {
      "cell_type": "code",
      "source": [
        "list_date[::2]"
      ],
      "metadata": {
        "colab": {
          "base_uri": "https://localhost:8080/"
        },
        "id": "i7jtUYpG_Cjj",
        "outputId": "81d8d0dd-73ff-4c68-b7f4-e1f12e48bba5"
      },
      "execution_count": 11,
      "outputs": [
        {
          "output_type": "execute_result",
          "data": {
            "text/plain": [
              "[1, 3, 5, 7, 9]"
            ]
          },
          "metadata": {},
          "execution_count": 11
        }
      ]
    },
    {
      "cell_type": "code",
      "source": [
        "list_date[::1]"
      ],
      "metadata": {
        "colab": {
          "base_uri": "https://localhost:8080/"
        },
        "id": "hFs9cKuD_Fgi",
        "outputId": "975cbe97-ef22-4124-c215-8d338b2d93ec"
      },
      "execution_count": 12,
      "outputs": [
        {
          "output_type": "execute_result",
          "data": {
            "text/plain": [
              "[1, 2, 3, 4, 5, 6, 7, 8, 9, 10]"
            ]
          },
          "metadata": {},
          "execution_count": 12
        }
      ]
    },
    {
      "cell_type": "code",
      "source": [
        "list_date[:2]"
      ],
      "metadata": {
        "colab": {
          "base_uri": "https://localhost:8080/"
        },
        "id": "p_206QLA_HXY",
        "outputId": "54aaf301-3a1a-4062-8b23-5412fc1715aa"
      },
      "execution_count": 13,
      "outputs": [
        {
          "output_type": "execute_result",
          "data": {
            "text/plain": [
              "[1, 2]"
            ]
          },
          "metadata": {},
          "execution_count": 13
        }
      ]
    },
    {
      "cell_type": "code",
      "source": [
        "list_date[1::2]\n"
      ],
      "metadata": {
        "colab": {
          "base_uri": "https://localhost:8080/"
        },
        "id": "f96Jl6U2_Kxl",
        "outputId": "4ec93930-809a-45d3-8312-c5b05bed863e"
      },
      "execution_count": 14,
      "outputs": [
        {
          "output_type": "execute_result",
          "data": {
            "text/plain": [
              "[2, 4, 6, 8, 10]"
            ]
          },
          "metadata": {},
          "execution_count": 14
        }
      ]
    },
    {
      "cell_type": "code",
      "source": [
        "list_date[7:9]"
      ],
      "metadata": {
        "colab": {
          "base_uri": "https://localhost:8080/"
        },
        "id": "W14IBFjG_Qlf",
        "outputId": "adb45fee-109b-4ada-9534-66b6d745bd99"
      },
      "execution_count": 15,
      "outputs": [
        {
          "output_type": "execute_result",
          "data": {
            "text/plain": [
              "[8, 9]"
            ]
          },
          "metadata": {},
          "execution_count": 15
        }
      ]
    },
    {
      "cell_type": "markdown",
      "source": [
        "- 리스트에서 항목 삭제 하기 \n",
        "```\n",
        "del list[i]\n",
        "```"
      ],
      "metadata": {
        "id": "fM6TJ31EAoVR"
      }
    },
    {
      "cell_type": "code",
      "source": [
        "del list_date[6]"
      ],
      "metadata": {
        "id": "jhJJM_3X_UOT"
      },
      "execution_count": 16,
      "outputs": []
    },
    {
      "cell_type": "code",
      "source": [
        "list_date"
      ],
      "metadata": {
        "colab": {
          "base_uri": "https://localhost:8080/"
        },
        "id": "446SxdBfAzUV",
        "outputId": "88b5d185-1c5f-4ae2-d86b-bfd17938e915"
      },
      "execution_count": 17,
      "outputs": [
        {
          "output_type": "execute_result",
          "data": {
            "text/plain": [
              "[1, 2, 3, 4, 5, 6, 8, 9, 10]"
            ]
          },
          "metadata": {},
          "execution_count": 17
        }
      ]
    },
    {
      "cell_type": "markdown",
      "source": [
        "- 리스트에서 항목의 존재 여부 확인하기 \n",
        "```\n",
        "항목 in list\n",
        "리스트 항목이 있으면 True, 없으면 False반환\n",
        "```"
      ],
      "metadata": {
        "id": "gmab0rX3A6Mi"
      }
    },
    {
      "cell_type": "code",
      "source": [
        "print(5 in list_date )"
      ],
      "metadata": {
        "colab": {
          "base_uri": "https://localhost:8080/"
        },
        "id": "Z11af3QAA0WG",
        "outputId": "54680865-eed6-4dae-81c9-468d50468cc9"
      },
      "execution_count": 19,
      "outputs": [
        {
          "output_type": "stream",
          "name": "stdout",
          "text": [
            "True\n"
          ]
        }
      ]
    },
    {
      "cell_type": "markdown",
      "source": [
        "# 리스트 메서드 활용하기 \n",
        "- 파이썬에서는 데이터 타입(자료형)별로 이용할 수 있는 다양한 함수를 제공하는데 이를 메서드라고 한다 \n",
        "\n",
        "```\n",
        "변수명.메스드 이름()\n",
        "```\n",
        "\n",
        " - 리스트 메서드 \n",
        "    - append():리스트에서 항목 하나를 맨 마지막에 추가 \n",
        "    - insert(1,''):리스트에서 특정 위치에 항목을 삽입 \n",
        "    - extend():리스트에서 항목 여러개를 맨 마지막에 추가 \n",
        "    - remove():입력값과 첫번째로 일치하는 항목을 리스트에서 삭제\n",
        "    - pop():리스트의 마지막 항목을 제거한 후 반환\n",
        "    - count():리스트에서 인자와 일치하는 항목의 개수를 반환\n",
        "    - sort():숫자나 문자열로 구성된 리스트 항목을 순방향으로 정렬\n",
        "    - reverse(): 리스트 항목을 끝에서부터 역순으로 정렬\n",
        "\n",
        "    - join 메서드 : 리스트의 문자열들을 합치는 역할 \n",
        "    ```\n",
        "    >>> str = \"Hi my name is limcoing\" \n",
        "    >>> splitted_str = str.split() \n",
        "    >>> print(splitted_str) \n",
        "    ['Hi', 'my', 'name', 'is', 'limcoing'] \n",
        "\n",
        "    >>> joined_str = \"\".join(splitted_str) \n",
        "    >>> print(joined_str) \n",
        "    Himynameislimcoing \n",
        "    ```\n",
        "\n",
        "    - split()함수\n",
        "    파이썬에서 문자열을 쪼개는 함수. 이 함수는 파라미터로 구분자를 주면 해당 구분자를 기준으로 문자열을 잘라 리스트 형식으로 반환. 파라미터에 아무것도 주지 않으면 공백을 기준으로 문자를 나눈다 "
      ],
      "metadata": {
        "id": "n2XwtqSIBRcM"
      }
    },
    {
      "cell_type": "code",
      "source": [
        "list_date.count(1)"
      ],
      "metadata": {
        "colab": {
          "base_uri": "https://localhost:8080/"
        },
        "id": "TS2GOPVSBMBA",
        "outputId": "24aceb08-6017-445c-a864-48c0d073e4b0"
      },
      "execution_count": 22,
      "outputs": [
        {
          "output_type": "execute_result",
          "data": {
            "text/plain": [
              "1"
            ]
          },
          "metadata": {},
          "execution_count": 22
        }
      ]
    },
    {
      "cell_type": "code",
      "source": [
        "print(list_date.sort())"
      ],
      "metadata": {
        "colab": {
          "base_uri": "https://localhost:8080/"
        },
        "id": "Esbd9aVrCV6l",
        "outputId": "905a1873-d105-4a0b-da61-eb9845861f84"
      },
      "execution_count": 32,
      "outputs": [
        {
          "output_type": "stream",
          "name": "stdout",
          "text": [
            "None\n"
          ]
        }
      ]
    },
    {
      "cell_type": "code",
      "source": [
        "list_date=[1,2,3,4,5,6,7,8,9,10]\n",
        "\n",
        "print(list_date.reverse())"
      ],
      "metadata": {
        "colab": {
          "base_uri": "https://localhost:8080/"
        },
        "id": "alr-S55sCdFC",
        "outputId": "d8d96547-8f24-41db-8837-3f9a30b86bee"
      },
      "execution_count": 31,
      "outputs": [
        {
          "output_type": "stream",
          "name": "stdout",
          "text": [
            "None\n"
          ]
        }
      ]
    },
    {
      "cell_type": "code",
      "source": [
        "# 문제 풀이 "
      ],
      "metadata": {
        "id": "9YZM3MCWDFRy"
      },
      "execution_count": null,
      "outputs": []
    },
    {
      "cell_type": "code",
      "source": [
        "movie_rank = [\"닥터 스트레인지\", \"스플릿\", \"럭키\"]"
      ],
      "metadata": {
        "id": "WHuzEazFDHWU"
      },
      "execution_count": null,
      "outputs": []
    },
    {
      "cell_type": "code",
      "source": [
        "movie_rank.append(\"배트맨\")"
      ],
      "metadata": {
        "id": "CZ5-fuoFCfJ2"
      },
      "execution_count": 33,
      "outputs": []
    },
    {
      "cell_type": "code",
      "source": [
        "print(movie_rank)"
      ],
      "metadata": {
        "colab": {
          "base_uri": "https://localhost:8080/"
        },
        "id": "bxsZqqBEDQQn",
        "outputId": "eb4e2440-062f-407a-e1d6-5c5f7a4a261e"
      },
      "execution_count": 34,
      "outputs": [
        {
          "output_type": "stream",
          "name": "stdout",
          "text": [
            "['닥터 스트레인지', '스플릿', '럭키', '배트맨']\n"
          ]
        }
      ]
    },
    {
      "cell_type": "code",
      "source": [
        "movie_rank.insert(1,\"슈퍼맨\")\n",
        "print(movie_rank)"
      ],
      "metadata": {
        "colab": {
          "base_uri": "https://localhost:8080/"
        },
        "id": "X6TIn6g8DSnw",
        "outputId": "c627399c-3a57-4240-f349-513f49c6d86b"
      },
      "execution_count": 36,
      "outputs": [
        {
          "output_type": "stream",
          "name": "stdout",
          "text": [
            "['닥터 스트레인지', '슈퍼맨', '슈퍼맨', '스플릿', '럭키', '배트맨']\n"
          ]
        }
      ]
    },
    {
      "cell_type": "code",
      "source": [
        "movie_rank.remove('럭키')\n",
        "print(movie_rank)"
      ],
      "metadata": {
        "colab": {
          "base_uri": "https://localhost:8080/"
        },
        "id": "qYIUaSXIDcM9",
        "outputId": "15334eb2-de64-4277-bf0e-f7edfc52648c"
      },
      "execution_count": 40,
      "outputs": [
        {
          "output_type": "stream",
          "name": "stdout",
          "text": [
            "['닥터 스트레인지', '슈퍼맨', '슈퍼맨', '스플릿', '배트맨']\n"
          ]
        }
      ]
    },
    {
      "cell_type": "code",
      "source": [
        "movie_rank = [\"닥터 스트레인지\", \"스플릿\", \"럭키\"]\n",
        "\n",
        "del movie_rank[2]\n",
        "print(movie_rank)"
      ],
      "metadata": {
        "colab": {
          "base_uri": "https://localhost:8080/"
        },
        "id": "LFrIee9kDlyU",
        "outputId": "eb5c8dd5-68c6-447b-e712-95a6ff905603"
      },
      "execution_count": 47,
      "outputs": [
        {
          "output_type": "stream",
          "name": "stdout",
          "text": [
            "['닥터 스트레인지', '스플릿']\n"
          ]
        }
      ]
    },
    {
      "cell_type": "code",
      "source": [
        "lang1 = [\"C\", \"C++\", \"JAVA\"]\n",
        "\n",
        "lang2 = [\"Python\", \"Go\", \"C#\"]\n",
        "\n",
        "lagn = lang1+lang2\n",
        "print(lagn)"
      ],
      "metadata": {
        "colab": {
          "base_uri": "https://localhost:8080/"
        },
        "id": "MzhWSAZRECIP",
        "outputId": "09ef1a2d-9e20-4757-a785-40061cca97e8"
      },
      "execution_count": 49,
      "outputs": [
        {
          "output_type": "stream",
          "name": "stdout",
          "text": [
            "['C', 'C++', 'JAVA', 'Python', 'Go', 'C#']\n"
          ]
        }
      ]
    },
    {
      "cell_type": "code",
      "source": [
        "nums = [1, 2, 3, 4, 5, 6, 7]\n",
        "\n",
        "# 최댓갑, 최솟값\n",
        "\n",
        "print(nums[-1])\n",
        "print(nums[0])"
      ],
      "metadata": {
        "colab": {
          "base_uri": "https://localhost:8080/"
        },
        "id": "rYrwC9X-E8QF",
        "outputId": "899a83e3-ecd7-4379-d7e3-2f061b10aa73"
      },
      "execution_count": 50,
      "outputs": [
        {
          "output_type": "stream",
          "name": "stdout",
          "text": [
            "7\n",
            "1\n"
          ]
        }
      ]
    },
    {
      "cell_type": "code",
      "source": [
        "nums = [1, 2, 3, 4, 5, 6, 7]\n",
        "print('max',max(nums))\n",
        "print('min',min(nums))"
      ],
      "metadata": {
        "colab": {
          "base_uri": "https://localhost:8080/"
        },
        "id": "PU_JnWXnFPxy",
        "outputId": "c869e384-8938-4caf-ef3f-2e52a1806695"
      },
      "execution_count": 52,
      "outputs": [
        {
          "output_type": "stream",
          "name": "stdout",
          "text": [
            "max 7\n",
            "min 1\n"
          ]
        }
      ]
    },
    {
      "cell_type": "code",
      "source": [
        "# 리스트의 합을 구하라\n",
        "nums = [1, 2, 3, 4, 5]\n",
        "\n",
        "print(sum(nums))"
      ],
      "metadata": {
        "colab": {
          "base_uri": "https://localhost:8080/"
        },
        "id": "xoy6VDDAF08g",
        "outputId": "38ec8419-0b89-40fe-af76-10851c96e856"
      },
      "execution_count": 53,
      "outputs": [
        {
          "output_type": "stream",
          "name": "stdout",
          "text": [
            "15\n"
          ]
        }
      ]
    },
    {
      "cell_type": "code",
      "source": [
        "# 저장된 데이터 개수\n",
        "cook = [\"피자\", \"김밥\", \"만두\", \"양념치킨\", \"족발\", \"피자\", \"김치만두\", \"쫄면\", \"소시지\", \"라면\", \"팥빙수\", \"김치전\"]\n",
        "\n",
        "print(len(cook))"
      ],
      "metadata": {
        "colab": {
          "base_uri": "https://localhost:8080/"
        },
        "id": "vkF7trw0GUCa",
        "outputId": "2a1794b9-05b6-425c-9f19-6c3e8f2b15d2"
      },
      "execution_count": 54,
      "outputs": [
        {
          "output_type": "stream",
          "name": "stdout",
          "text": [
            "12\n"
          ]
        }
      ]
    },
    {
      "cell_type": "code",
      "source": [
        "nums = [1, 2, 3, 4, 5]\n",
        "\n",
        "a = sum(nums)\n",
        "\n",
        "print(a/5)\n",
        "\n"
      ],
      "metadata": {
        "colab": {
          "base_uri": "https://localhost:8080/"
        },
        "id": "je_QSoZZGanH",
        "outputId": "03b21912-c349-4998-a7d8-90757135521b"
      },
      "execution_count": 56,
      "outputs": [
        {
          "output_type": "stream",
          "name": "stdout",
          "text": [
            "3.0\n"
          ]
        }
      ]
    },
    {
      "cell_type": "code",
      "source": [
        "nums = [1, 2, 3, 4, 5]\n",
        "\n",
        "a=sum(nums)\n",
        "b=len(nums)\n",
        "\n",
        "print(a/b)"
      ],
      "metadata": {
        "colab": {
          "base_uri": "https://localhost:8080/"
        },
        "id": "fLDzh8LtG_cW",
        "outputId": "6e160a3a-4374-46af-cdce-6141074044dd"
      },
      "execution_count": 57,
      "outputs": [
        {
          "output_type": "stream",
          "name": "stdout",
          "text": [
            "3.0\n"
          ]
        }
      ]
    },
    {
      "cell_type": "code",
      "source": [
        "price = ['20180728', 100, 130, 140, 150, 160, 170]\n",
        "\n",
        "price[1:]\n"
      ],
      "metadata": {
        "colab": {
          "base_uri": "https://localhost:8080/"
        },
        "id": "Q5Moxr0vG2d6",
        "outputId": "4df9b19e-4086-4736-fcac-20b9edbaf3a1"
      },
      "execution_count": 3,
      "outputs": [
        {
          "output_type": "execute_result",
          "data": {
            "text/plain": [
              "[100, 130, 140, 150, 160, 170]"
            ]
          },
          "metadata": {},
          "execution_count": 3
        }
      ]
    },
    {
      "cell_type": "code",
      "source": [
        "nums = [1, 2, 3, 4, 5, 6, 7, 8, 9, 10]\n",
        "\n",
        "nums[::2]"
      ],
      "metadata": {
        "colab": {
          "base_uri": "https://localhost:8080/"
        },
        "id": "lF_R0m64MBwe",
        "outputId": "0f4d4aec-3fc1-4f22-8ae0-d4caaf976799"
      },
      "execution_count": 7,
      "outputs": [
        {
          "output_type": "execute_result",
          "data": {
            "text/plain": [
              "[1, 3, 5, 7, 9]"
            ]
          },
          "metadata": {},
          "execution_count": 7
        }
      ]
    },
    {
      "cell_type": "code",
      "source": [
        "nums = [1, 2, 3, 4, 5, 6, 7, 8, 9, 10]\n",
        "\n",
        "nums[1::2]"
      ],
      "metadata": {
        "colab": {
          "base_uri": "https://localhost:8080/"
        },
        "id": "a52pxOz1L0Z0",
        "outputId": "d8333f7c-75d8-48f7-8024-4e9457a9d72f"
      },
      "execution_count": 5,
      "outputs": [
        {
          "output_type": "execute_result",
          "data": {
            "text/plain": [
              "[2, 4, 6, 8, 10]"
            ]
          },
          "metadata": {},
          "execution_count": 5
        }
      ]
    },
    {
      "cell_type": "code",
      "source": [
        "nums = [1, 2, 3, 4, 5]"
      ],
      "metadata": {
        "id": "UEbgyQDzL8cY"
      },
      "execution_count": 18,
      "outputs": []
    },
    {
      "cell_type": "code",
      "source": [
        "print(nums[::-1])"
      ],
      "metadata": {
        "colab": {
          "base_uri": "https://localhost:8080/"
        },
        "id": "Z7DRgcqvMMPd",
        "outputId": "31a288b4-7212-4c47-b03a-aadad3fd5c68"
      },
      "execution_count": 19,
      "outputs": [
        {
          "output_type": "stream",
          "name": "stdout",
          "text": [
            "[5, 4, 3, 2, 1]\n"
          ]
        }
      ]
    },
    {
      "cell_type": "code",
      "source": [
        "interest = ['삼성전자', 'LG전자', 'Naver']\n",
        "\n",
        "del interest[1]"
      ],
      "metadata": {
        "id": "7ZzihJ63Mtic"
      },
      "execution_count": 20,
      "outputs": []
    },
    {
      "cell_type": "code",
      "source": [
        "print(interest)"
      ],
      "metadata": {
        "colab": {
          "base_uri": "https://localhost:8080/"
        },
        "id": "1AxGOyKbNCL0",
        "outputId": "7ac7c178-0c0c-43d1-e529-e78dbc943710"
      },
      "execution_count": 21,
      "outputs": [
        {
          "output_type": "stream",
          "name": "stdout",
          "text": [
            "['삼성전자', 'Naver']\n"
          ]
        }
      ]
    },
    {
      "cell_type": "code",
      "source": [
        "interest"
      ],
      "metadata": {
        "colab": {
          "base_uri": "https://localhost:8080/"
        },
        "id": "HSbLceC2NFdf",
        "outputId": "2d8f6e02-e0fd-48b8-f0d8-e471a95d8d82"
      },
      "execution_count": 22,
      "outputs": [
        {
          "output_type": "execute_result",
          "data": {
            "text/plain": [
              "['삼성전자', 'Naver']"
            ]
          },
          "metadata": {},
          "execution_count": 22
        }
      ]
    },
    {
      "cell_type": "code",
      "source": [
        "print(interest[0],interest[1])"
      ],
      "metadata": {
        "colab": {
          "base_uri": "https://localhost:8080/"
        },
        "id": "h5iGZVb6NITL",
        "outputId": "de89e39e-9ace-49a4-9d50-604d22106af8"
      },
      "execution_count": 25,
      "outputs": [
        {
          "output_type": "stream",
          "name": "stdout",
          "text": [
            "삼성전자 Naver\n"
          ]
        }
      ]
    },
    {
      "cell_type": "code",
      "source": [
        "# join 메서드\n",
        "\n",
        "\n",
        "interest = ['삼성전자', 'LG전자', 'Naver', 'SK하이닉스', '미래에셋대우']\n",
        "\n",
        "interest1 = \" \".join(interest)\n",
        "\n",
        "print(interest1)\n"
      ],
      "metadata": {
        "colab": {
          "base_uri": "https://localhost:8080/"
        },
        "id": "_fELsfXWNRdZ",
        "outputId": "fc9142fb-a734-41b9-8450-bc6d47669ff2"
      },
      "execution_count": 31,
      "outputs": [
        {
          "output_type": "stream",
          "name": "stdout",
          "text": [
            "삼성전자 LG전자 Naver SK하이닉스 미래에셋대우\n"
          ]
        }
      ]
    },
    {
      "cell_type": "code",
      "source": [
        "interest = ['삼성전자', 'LG전자', 'Naver', 'SK하이닉스', '미래에셋대우']\n",
        "\n",
        "interest1 =\" / \".join(interest)\n",
        "\n",
        "print(interest1)"
      ],
      "metadata": {
        "colab": {
          "base_uri": "https://localhost:8080/"
        },
        "id": "qgxJrX9LOj9e",
        "outputId": "ae174a38-75e2-479c-f19e-597b833618c1"
      },
      "execution_count": 36,
      "outputs": [
        {
          "output_type": "stream",
          "name": "stdout",
          "text": [
            "삼성전자 / LG전자 / Naver / SK하이닉스 / 미래에셋대우\n"
          ]
        }
      ]
    },
    {
      "cell_type": "code",
      "source": [
        "interest = ['삼성전자', 'LG전자', 'Naver', 'SK하이닉스', '미래에셋대우']\n",
        "\n",
        "interest1 =\"\\n\".join(interest)\n",
        "\n",
        "print(interest1)"
      ],
      "metadata": {
        "colab": {
          "base_uri": "https://localhost:8080/"
        },
        "id": "PpNIFZqSPOMO",
        "outputId": "7505b9cd-d707-4a78-f97f-31a62d2faf68"
      },
      "execution_count": 37,
      "outputs": [
        {
          "output_type": "stream",
          "name": "stdout",
          "text": [
            "삼성전자\n",
            "LG전자\n",
            "Naver\n",
            "SK하이닉스\n",
            "미래에셋대우\n"
          ]
        }
      ]
    },
    {
      "cell_type": "code",
      "source": [
        "string = \"삼성전자/LG전자/Naver\"\n",
        "\n",
        "string1= string.split(\"/\")\n",
        "\n",
        "print(string1)\n"
      ],
      "metadata": {
        "colab": {
          "base_uri": "https://localhost:8080/"
        },
        "id": "z9lp2W0JPZ1w",
        "outputId": "821f75e3-eaee-4fb3-83c9-5a72e5bac4a4"
      },
      "execution_count": 47,
      "outputs": [
        {
          "output_type": "stream",
          "name": "stdout",
          "text": [
            "['삼성전자', 'LG전자', 'Naver']\n"
          ]
        }
      ]
    },
    {
      "cell_type": "code",
      "source": [
        "data = [2, 4, 3, 1, 5, 10, 9]\n",
        "\n",
        "data.sort()\n",
        "\n",
        "print(data)"
      ],
      "metadata": {
        "colab": {
          "base_uri": "https://localhost:8080/"
        },
        "id": "QU-LMH5gPkQ5",
        "outputId": "d9023e15-7c66-48b2-d96a-19c751d66ef6"
      },
      "execution_count": 50,
      "outputs": [
        {
          "output_type": "stream",
          "name": "stdout",
          "text": [
            "[1, 2, 3, 4, 5, 9, 10]\n"
          ]
        }
      ]
    },
    {
      "cell_type": "code",
      "source": [
        "data = [2, 4, 3, 1, 5, 10, 9]\n",
        "\n",
        "data.reverse()\n",
        "\n",
        "print(data)"
      ],
      "metadata": {
        "colab": {
          "base_uri": "https://localhost:8080/"
        },
        "id": "r-OZXY6-Qijr",
        "outputId": "c47bf274-2ed3-4b81-dd3b-91637036210d"
      },
      "execution_count": 51,
      "outputs": [
        {
          "output_type": "stream",
          "name": "stdout",
          "text": [
            "[9, 10, 5, 1, 3, 4, 2]\n"
          ]
        }
      ]
    },
    {
      "cell_type": "code",
      "source": [
        ""
      ],
      "metadata": {
        "id": "qRKlpPZzQ1Dn"
      },
      "execution_count": null,
      "outputs": []
    }
  ]
}