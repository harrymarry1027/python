{
  "nbformat": 4,
  "nbformat_minor": 0,
  "metadata": {
    "colab": {
      "name": "진실 또는 거짓-비교연산과 논리연산.ipynb",
      "provenance": [],
      "authorship_tag": "ABX9TyMdP4c02R5+hNVQD/Dv9KpF",
      "include_colab_link": true
    },
    "kernelspec": {
      "name": "python3",
      "display_name": "Python 3"
    },
    "language_info": {
      "name": "python"
    }
  },
  "cells": [
    {
      "cell_type": "markdown",
      "metadata": {
        "id": "view-in-github",
        "colab_type": "text"
      },
      "source": [
        "<a href=\"https://colab.research.google.com/github/harrymarry1027/python/blob/main/%EC%A7%84%EC%8B%A4_%EB%98%90%EB%8A%94_%EA%B1%B0%EC%A7%93_%EB%B9%84%EA%B5%90%EC%97%B0%EC%82%B0%EA%B3%BC_%EB%85%BC%EB%A6%AC%EC%97%B0%EC%82%B0.ipynb\" target=\"_parent\"><img src=\"https://colab.research.google.com/assets/colab-badge.svg\" alt=\"Open In Colab\"/></a>"
      ]
    },
    {
      "cell_type": "code",
      "execution_count": null,
      "metadata": {
        "id": "6pnvgRPB4EK_"
      },
      "outputs": [],
      "source": [
        ""
      ]
    },
    {
      "cell_type": "markdown",
      "source": [
        "# 논리형 boolean\n",
        "\n",
        "- 참 True, 거짓 False\n",
        "\n",
        "- 논리형은 비교 연산이나 논리 연산의 결과로 사용\n",
        "\n",
        "```\n",
        "비교연산 \n",
        ";두자료를 비교 할때\n",
        "-1보다 2가 크다 #참\n",
        "-2보다 3이 작다 # 거짓\n",
        "```\n",
        "\n",
        "```\n",
        "논리연산\n",
        "; 두논리를 연결할때\n",
        "-1은 양수이고 2는 양수이다 # 참\n",
        "-1은 양수이고 2는 음수이다 # 거짓\n",
        "```\n",
        "\n",
        "- 연산의 참, 거짓에 따라 화면이 달라진다 \n"
      ],
      "metadata": {
        "id": "9cLQhn_B4IOX"
      }
    },
    {
      "cell_type": "markdown",
      "source": [
        "# 비교의 참˙거짓을 판단해 - 비교 연산\n",
        "- 부등식 : 두 숫자 또는 두식의 크기를 비교하는 수식을 부등식\n",
        "- 부등호 : 부등식에서 사용하는 >,<,>=,<= 등의 기호를 부등호\n",
        "\n",
        "- 파이썬에서는 두숫자나 두식의 크기를 비교하는데 이 과정을 비교 연산\n",
        "- 이때 사용하는 연산자를 비교 연산자 라고 함\n"
      ],
      "metadata": {
        "id": "nsG4LAr55D6O"
      }
    },
    {
      "cell_type": "code",
      "source": [
        "ans1 = 1>5\n",
        "ans2 = 3!=4\n",
        "\n",
        "print(ans1,ans2)"
      ],
      "metadata": {
        "colab": {
          "base_uri": "https://localhost:8080/"
        },
        "id": "V5Zy4SmO4zP0",
        "outputId": "1984a4eb-238b-422d-bf5e-f05f70174acc"
      },
      "execution_count": 1,
      "outputs": [
        {
          "output_type": "stream",
          "name": "stdout",
          "text": [
            "False True\n"
          ]
        }
      ]
    },
    {
      "cell_type": "markdown",
      "source": [
        "# 논리의 참·거짓을 판단해 - 논리연산\n",
        "\n",
        "- 명제가 여러개 연결되어 있을 때 참·거짓을 판별하거나 명제의 참·거짓을 뒤집는 연산을 말한다 \n",
        "\n",
        "- 이때 사용하는 연산자를 논리 연산자 : and, or, not\n",
        "\n",
        "- and 연산자 \n",
        "    - 모든 논리가 참이여야만 True \n",
        "    - a 그리고 b 그리고 c가 모두 참이어야만 참이다\n",
        "    "
      ],
      "metadata": {
        "id": "IJiUnD3n6Ny4"
      }
    },
    {
      "cell_type": "code",
      "source": [
        "print(34==34 and 12!=1 and 55==55)"
      ],
      "metadata": {
        "colab": {
          "base_uri": "https://localhost:8080/"
        },
        "id": "aszINHBd56Tc",
        "outputId": "7d9e77e3-de2f-451c-99e3-b17315378a3d"
      },
      "execution_count": 2,
      "outputs": [
        {
          "output_type": "stream",
          "name": "stdout",
          "text": [
            "True\n"
          ]
        }
      ]
    },
    {
      "cell_type": "markdown",
      "source": [
        "- or 연산자\n",
        "    - 여러논리 중 하나만 참이어도 True가 출력됨\n",
        "    -' a 또는 b 또는 c 중 하나라도 참이면 참이다!'"
      ],
      "metadata": {
        "id": "Og_YZclW7Cp8"
      }
    },
    {
      "cell_type": "code",
      "source": [
        "print(17==1 or 17+1==18 or 18==19)"
      ],
      "metadata": {
        "colab": {
          "base_uri": "https://localhost:8080/"
        },
        "id": "YLwlGofW7BEc",
        "outputId": "2ebe7595-8ee7-4094-e0e1-ef4d3b9031f9"
      },
      "execution_count": 3,
      "outputs": [
        {
          "output_type": "stream",
          "name": "stdout",
          "text": [
            "True\n"
          ]
        }
      ]
    },
    {
      "cell_type": "markdown",
      "source": [
        "- not 연산자\n",
        "    - 논리의 값을 뒤집는 연산자 \n",
        "    - not a 라고 하면 'a가 아니다' 라는 뜻\n",
        "    "
      ],
      "metadata": {
        "id": "eRnRabPv7a6f"
      }
    },
    {
      "cell_type": "code",
      "source": [
        "print(not 3!=3)"
      ],
      "metadata": {
        "colab": {
          "base_uri": "https://localhost:8080/"
        },
        "id": "OXhWxZxT7ZMx",
        "outputId": "9bae1553-992d-4693-9689-5bbf8deee7b7"
      },
      "execution_count": 4,
      "outputs": [
        {
          "output_type": "stream",
          "name": "stdout",
          "text": [
            "True\n"
          ]
        }
      ]
    },
    {
      "cell_type": "code",
      "source": [
        "# 예제 \n",
        "\n",
        "stat1 = 2<4 and 2<5"
      ],
      "metadata": {
        "id": "1Ctf2Igt7pnl"
      },
      "execution_count": 5,
      "outputs": []
    },
    {
      "cell_type": "code",
      "source": [
        "print(stat1)"
      ],
      "metadata": {
        "colab": {
          "base_uri": "https://localhost:8080/"
        },
        "id": "CGxRIcSs7zxF",
        "outputId": "9c158bba-7603-443f-d789-344ef2920ed6"
      },
      "execution_count": 6,
      "outputs": [
        {
          "output_type": "stream",
          "name": "stdout",
          "text": [
            "True\n"
          ]
        }
      ]
    },
    {
      "cell_type": "code",
      "source": [
        "stat2 = 4 >=6 or 3>5\n"
      ],
      "metadata": {
        "id": "XrC5VYHg71aa"
      },
      "execution_count": 7,
      "outputs": []
    },
    {
      "cell_type": "code",
      "source": [
        "print(stat1 or stat2)"
      ],
      "metadata": {
        "colab": {
          "base_uri": "https://localhost:8080/"
        },
        "id": "oViwC91577sr",
        "outputId": "2e0aa791-62f7-4442-9767-871dda2dbf4d"
      },
      "execution_count": 8,
      "outputs": [
        {
          "output_type": "stream",
          "name": "stdout",
          "text": [
            "True\n"
          ]
        }
      ]
    },
    {
      "cell_type": "code",
      "source": [
        ""
      ],
      "metadata": {
        "id": "cA640p4L7-xh"
      },
      "execution_count": null,
      "outputs": []
    }
  ]
}